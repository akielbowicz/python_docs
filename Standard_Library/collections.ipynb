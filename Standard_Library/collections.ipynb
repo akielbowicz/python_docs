{
 "cells": [
  {
   "cell_type": "markdown",
   "metadata": {
    "collapsed": false
   },
   "source": [
    "## **COLLECTIONS**"
   ]
  },
  {
   "cell_type": "code",
   "execution_count": 5,
   "metadata": {
    "collapsed": false
   },
   "outputs": [
   ],
   "source": [
    "from collections import *"
   ]
  },
  {
   "cell_type": "markdown",
   "metadata": {
    "collapsed": false
   },
   "source": [
    "   ChainMap(_locals(), globals(), vars(builtins)_)"
   ]
  },
  {
   "cell_type": "markdown",
   "metadata": {
    "collapsed": false
   },
   "source": [
    " _to do_"
   ]
  },
  {
   "cell_type": "markdown",
   "metadata": {
    "collapsed": false
   },
   "source": [
    "#### Counter(_[iterable-or-mapping]_)"
   ]
  },
  {
   "cell_type": "code",
   "execution_count": 8,
   "metadata": {
    "collapsed": false
   },
   "outputs": [
    {
     "name": "stdout",
     "output_type": "stream",
     "text": [
      "Counter()\n",
      "Counter({'esto': 2, 'es': 2, 'hola': 1, 'Hola': 1, 'no': 1, 'o': 1})\n",
      "[('esto', 2), ('es', 2), ('hola', 1)]\n"
     ]
    }
   ],
   "source": [
    "cnt = Counter()\n",
    "print(cnt)\n",
    "str = 'Hola hola esto es o no es esto'.split(' ')\n",
    "for word in str:\n",
    "    cnt[word] += 1\n",
    "print(cnt)\n",
    "print(cnt.most_common(3))"
   ]
  },
  {
   "cell_type": "code",
   "execution_count": 12,
   "metadata": {
    "collapsed": false
   },
   "outputs": [
    {
     "name": "stdout",
     "output_type": "stream",
     "text": [
      "Counter({'a': 3, 's': 2, 'd': 2, 'i': 1, 'e': 1, 'm': 1})\n",
      "Counter({'azul': 34, 'rojo': 3, 'amarillo': 2})\n",
      "Counter({'huevos': 6, 'leche': 2, 'harina': 1})\n"
     ]
    }
   ],
   "source": [
    "cnt = Counter('demasiadas')\n",
    "print(cnt)\n",
    "cnt = Counter({'rojo':3,'amarillo':2,'azul':34})\n",
    "print(cnt)\n",
    "cnt = Counter(leche=2,huevos=6,harina=1)\n",
    "print(cnt)"
   ]
  },
  {
   "cell_type": "code",
   "execution_count": 0,
   "metadata": {
    "collapsed": false
   },
   "outputs": [
   ],
   "source": [
   ]
  }
 ],
 "metadata": {
  "kernelspec": {
   "display_name": "Python 3 (Anaconda)",
   "language": "python",
   "name": "anaconda3"
  },
  "language_info": {
   "codemirror_mode": {
    "name": "ipython",
    "version": 3
   },
   "file_extension": ".py",
   "mimetype": "text/x-python",
   "name": "python",
   "nbconvert_exporter": "python",
   "pygments_lexer": "ipython3",
   "version": "3.5.4"
  }
 },
 "nbformat": 4,
 "nbformat_minor": 0
}